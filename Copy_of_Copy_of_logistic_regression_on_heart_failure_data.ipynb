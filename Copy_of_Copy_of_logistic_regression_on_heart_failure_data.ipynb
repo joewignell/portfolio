{
  "nbformat": 4,
  "nbformat_minor": 0,
  "metadata": {
    "kernelspec": {
      "language": "python",
      "display_name": "Python 3",
      "name": "python3"
    },
    "language_info": {
      "pygments_lexer": "ipython3",
      "nbconvert_exporter": "python",
      "version": "3.6.4",
      "file_extension": ".py",
      "codemirror_mode": {
        "name": "ipython",
        "version": 3
      },
      "name": "python",
      "mimetype": "text/x-python"
    },
    "colab": {
      "name": "Copy of Copy of logistic-regression-on-heart-failure-data.ipynb",
      "provenance": [],
      "collapsed_sections": [],
      "include_colab_link": true
    }
  },
  "cells": [
    {
      "cell_type": "markdown",
      "metadata": {
        "id": "view-in-github",
        "colab_type": "text"
      },
      "source": [
        "<a href=\"https://colab.research.google.com/github/joewignell/portfolio/blob/main/Copy_of_Copy_of_logistic_regression_on_heart_failure_data.ipynb\" target=\"_parent\"><img src=\"https://colab.research.google.com/assets/colab-badge.svg\" alt=\"Open In Colab\"/></a>"
      ]
    },
    {
      "cell_type": "markdown",
      "metadata": {
        "id": "tnJgRltlz3bG"
      },
      "source": [
        "<h1><center>Logistic Regression to predict death in heart failure patients</center></h1>\n",
        "\n",
        "Objectives: The objective of this exercise is to use a Logistic Regression machine learning algorithm to define the likelhood of survival of a heart failure patient.  The dataset used for the analysis can be found here: https://www.kaggle.com/andrewmvd/heart-failure-clinical-data. This dataset provides a comprehensive snapshot of the factors that require consideration when trying to predict the outcome of heart failure."
      ]
    },
    {
      "cell_type": "code",
      "metadata": {
        "_uuid": "8f2839f25d086af736a60e9eeb907d3b93b6e0e5",
        "_cell_guid": "b1076dfc-b9ad-4769-8c92-a6c4dae69d19",
        "trusted": true,
        "id": "zpMLmOOYz3bM"
      },
      "source": [
        "# This Python 3 environment comes with many helpful analytics libraries installed\n",
        "# It is defined by the kaggle/python Docker image: https://github.com/kaggle/docker-python\n",
        "# For example, here's several helpful packages to load\n",
        "\n",
        "import itertools\n",
        "import numpy as np # linear algebra\n",
        "import pandas as pd # data processing, CSV file I/O (e.g. pd.read_csv)\n",
        "from sklearn.linear_model import LogisticRegression \n",
        "from sklearn.model_selection import train_test_split\n",
        "from sklearn.preprocessing import StandardScaler\n",
        "from sklearn.preprocessing import MinMaxScaler\n",
        "from matplotlib import pyplot as plt\n",
        "import statistics\n",
        "# Input data files are available in the read-only \"../input/\" directory\n",
        "# For example, running this (by clicking run or pressing Shift+Enter) will list all files under the input directory\n",
        "\n",
        "import os\n",
        "for dirname, _, filenames in os.walk('/kaggle/input'):\n",
        "    for filename in filenames:\n",
        "        print(os.path.join(dirname, filename))\n",
        "\n",
        "# You can write up to 20GB to the current directory (/kaggle/working/) that gets preserved as output when you create a version using \"Save & Run All\" \n",
        "# You can also write temporary files to /kaggle/temp/, but they won't be saved outside of the current session"
      ],
      "execution_count": null,
      "outputs": []
    },
    {
      "cell_type": "markdown",
      "metadata": {
        "id": "0NgnCRodz3bP"
      },
      "source": [
        "Methods: The necessary datasets were imported for analysis. The death even data were separated from the rest of the data allowing the death event column to be used for predictions and testing of the proposed model. The time column was also removed, as it refers to the time from the last follow up until death and is therefore not a predictor. The first 5 rows of the whole dataset were printed out so that the different parameters avaiaible can be easily reviewed."
      ]
    },
    {
      "cell_type": "code",
      "metadata": {
        "trusted": true,
        "id": "xhNQ0mSBz3bP"
      },
      "source": [
        "df = pd.read_csv('heart_failure_clinical_records_dataset.csv')\n",
        "died = df['DEATH_EVENT']\n",
        "all_features = df.drop(['DEATH_EVENT', 'time'], axis=1)\n",
        "df.head()\n",
        "numeric_columns = ['age', 'creatinine_phosphokinase', 'ejection_fraction', 'platelets', 'serum_creatinine', 'serum_sodium']"
      ],
      "execution_count": null,
      "outputs": []
    },
    {
      "cell_type": "markdown",
      "metadata": {
        "id": "chjOPysez3bQ"
      },
      "source": [
        "Next, the model was trained on on every column of the dataset.  The data was split 80/20 into training and testing sets respectively, with all data scaled so the model doesnt over emphasise one factor, for example the platelets column, which has very large numbers compared to the rest. The model was then trained and tested, with the desired outcome being a score as close to 1 as possible, where a score of 1 which indicates the model was entirely predictave."
      ]
    },
    {
      "cell_type": "code",
      "metadata": {
        "trusted": true,
        "id": "pkiI3w-nz3bR",
        "colab": {
          "base_uri": "https://localhost:8080/"
        },
        "outputId": "9bcabfcf-119c-4667-c40b-b1efbf8b2858"
      },
      "source": [
        "x_train, x_test, y_train, y_test = train_test_split(all_features, died, test_size=0.2, random_state=10)\n",
        "scaler = StandardScaler()\n",
        "x_train = scaler.fit_transform(x_train)\n",
        "x_test = scaler.transform(x_test)\n",
        "model = LogisticRegression()\n",
        "model.fit(x_train, y_train)\n",
        "all_score = model.score(x_test, y_test)\n",
        "\n",
        "print(all_score)"
      ],
      "execution_count": null,
      "outputs": [
        {
          "output_type": "stream",
          "text": [
            "0.6666666666666666\n"
          ],
          "name": "stdout"
        }
      ]
    },
    {
      "cell_type": "markdown",
      "metadata": {
        "id": "bg9YFAtRz3bT"
      },
      "source": [
        "Results test 1: The model was found to be 66.67% accurate, which was not much of an improvement over guessing! Further optimisation is required. To facilitate this, a graph was prepared visualising the coefficients of each variable (see below).  This will demonstrate how much each variable is influencing the model allowing their importance to be determined."
      ]
    },
    {
      "cell_type": "code",
      "metadata": {
        "trusted": true,
        "id": "j165Hlwtz3bU",
        "colab": {
          "base_uri": "https://localhost:8080/",
          "height": 392
        },
        "outputId": "740211ad-70d2-4017-a8c0-1354babe5115"
      },
      "source": [
        "coefs = model.coef_\n",
        "coefs = coefs[0]\n",
        "coefsabs = abs(coefs)\n",
        "labels = all_features.columns.values\n",
        "labelsspace = [i.replace('_', ' ') for i in labels]\n",
        "plt.figure(figsize=(18, 13))\n",
        "ax = plt.subplot()\n",
        "plt.barh(range(len(coefsabs)), coefsabs)\n",
        "ax.set_yticks(range(len(coefs)))\n",
        "ax.set_yticklabels(labelsspace, fontsize=20)\n",
        "plt.title('Coefficients for Variables in current model', fontsize=30)\n",
        "plt.show()"
      ],
      "execution_count": null,
      "outputs": [
        {
          "output_type": "display_data",
          "data": {
            "image/png": "[encoded data removed]",
            "text/plain": [
              "<Figure size 1296x936 with 1 Axes>"
            ]
          },
          "metadata": {
            "tags": [],
            "needs_background": "light"
          }
        }
      ]
    },
    {
      "cell_type": "markdown",
      "metadata": {
        "id": "qqxlYlduz3bV"
      },
      "source": [
        "Following review of the graph, variables which were demonstrated as having very little effect on outcome were removed to investigate whether this improved the accuaracy of the proposed model. Once removed, the model was re trained and tested, with print outs collected for this new model and the old one with every variable included. The new model gave a result of 71.66%, a slight improvement over the original score."
      ]
    },
    {
      "cell_type": "code",
      "metadata": {
        "trusted": true,
        "id": "wldxJwJ2z3bW",
        "colab": {
          "base_uri": "https://localhost:8080/"
        },
        "outputId": "75963b7f-fbc8-444a-c1ba-98ff9c2547ca"
      },
      "source": [
        "new_features = all_features.drop(['platelets', 'smoking', 'diabetes'], axis=1)\n",
        "x_train, x_test, y_train, y_test = train_test_split(new_features, died, test_size=0.2, random_state=10)\n",
        "x_train = scaler.fit_transform(x_train)\n",
        "x_test = scaler.transform(x_test)\n",
        "model.fit(x_train, y_train)\n",
        "print('new model: ', model.score(x_test, y_test))\n",
        "print('all features: ', all_score)"
      ],
      "execution_count": null,
      "outputs": [
        {
          "output_type": "stream",
          "text": [
            "new model:  0.7166666666666667\n",
            "all features:  0.6666666666666666\n"
          ],
          "name": "stdout"
        }
      ]
    },
    {
      "cell_type": "markdown",
      "metadata": {
        "id": "DTrBhodbz3bX"
      },
      "source": [
        "Discussion: It is clear that removing some variables led to an improvement in the model performance, however how can the proposed model be otimised further?  Below is a block of code which will train and test the model on every single combination of the variables we have.  It runs the train and test over 4000 times so it may take a couple of minutes.  Afterwards it will print out the best score it could get along with the largest and smallest list of variables that will achieve that score.  Often the same score can result from different combinations of variables."
      ]
    },
    {
      "cell_type": "code",
      "metadata": {
        "trusted": true,
        "id": "oM_Rxwfgz3bZ",
        "colab": {
          "base_uri": "https://localhost:8080/"
        },
        "outputId": "46393db3-7ef3-4210-d61d-aa63fc1c2a42"
      },
      "source": [
        "best_features = []\n",
        "best_most_features = []\n",
        "best_score = 0\n",
        "scores = {}\n",
        "scoreslist = []\n",
        "for i in range(1, (len(labels))):\n",
        "  combos = list(itertools.combinations(labels, i))\n",
        "  for i in combos:\n",
        "    brand_new_features = all_features[list(i)]\n",
        "    x_train, x_test, y_train, y_test = train_test_split(brand_new_features, died, test_size=0.2, random_state=10)\n",
        "    x_train = scaler.fit_transform(x_train)\n",
        "    x_test = scaler.transform(x_test)\n",
        "    model.fit(x_train, y_train)\n",
        "    score = model.score(x_test, y_test)\n",
        "    scores[score] = list(i)\n",
        "    scoreslist.append(score)\n",
        "    if score > best_score:\n",
        "        best_score = score\n",
        "        best_features = list(i)\n",
        "    if score == best_score:\n",
        "        best_most_features = list(i)\n",
        "        \n",
        "print('Best Score =', best_score)\n",
        "print('Shortest List of Features =', best_features)\n",
        "print('Longest List of Features =', best_most_features)"
      ],
      "execution_count": null,
      "outputs": [
        {
          "output_type": "stream",
          "text": [
            "Best Score = 0.8\n",
            "Shortest List of Features = ['age', 'high_blood_pressure']\n",
            "Longest List of Features = ['age', 'creatinine_phosphokinase', 'high_blood_pressure', 'platelets', 'smoking']\n"
          ],
          "name": "stdout"
        }
      ]
    },
    {
      "cell_type": "markdown",
      "metadata": {
        "id": "Stumj4uvz3ba"
      },
      "source": [
        "According to my code you can get an 80% accurate prediction for the outcome of a heart failure patient with just their age and whether they have high blood pressure or not.  If we look at the last graph these have lower coefficients than some other variables.  Perhaps working with a larger dataset would gleen more information.  The 2 highest coefficients are serum creatinine and ejection franction.  Maybe I could put them one on one against age and high blood pressure in ranomised tests to see if either is better.  I will run my model on randomised splits of the data 100 times and then print the mean result of each set of variables."
      ]
    },
    {
      "cell_type": "code",
      "metadata": {
        "trusted": true,
        "id": "25a96JZvz3bc",
        "colab": {
          "base_uri": "https://localhost:8080/"
        },
        "outputId": "6e1f8832-9886-4298-9a66-cad9aceedfd7"
      },
      "source": [
        "scores_age = []\n",
        "scores_serum = []\n",
        "i = 0\n",
        "\n",
        "while i < 100:\n",
        "  age_and_pressure = all_features[['age', 'high_blood_pressure']]\n",
        "  x_train, x_test, y_train, y_test = train_test_split(age_and_pressure, died, test_size=0.2)\n",
        "  x_train = scaler.fit_transform(x_train)\n",
        "  x_test = scaler.transform(x_test)\n",
        "  model.fit(x_train, y_train)\n",
        "  scores_age.append(model.score(x_test, y_test))\n",
        "\n",
        "  serum_and_ejection = all_features[['serum_creatinine', 'ejection_fraction']]\n",
        "  x_train, x_test, y_train, y_test = train_test_split(serum_and_ejection, died, test_size=0.2)\n",
        "  x_train = scaler.fit_transform(x_train)\n",
        "  x_test = scaler.transform(x_test)\n",
        "  model.fit(x_train, y_train)\n",
        "  scores_serum.append(model.score(x_test, y_test))\n",
        "  i += 1\n",
        "\n",
        "print('Mean score for age and blood pressure: ', statistics.mean(scores_age))\n",
        "print('Mean score for serum creatinine and ejection fraction: ', statistics.mean(scores_serum))\n"
      ],
      "execution_count": null,
      "outputs": [
        {
          "output_type": "stream",
          "text": [
            "Mean score for age and blood pressure:  0.7083333333333334\n",
            "Mean score for serum creatinine and ejection fraction:  0.7456666666666667\n"
          ],
          "name": "stdout"
        }
      ]
    },
    {
      "cell_type": "markdown",
      "metadata": {
        "id": "-uDF5iZwz3be"
      },
      "source": [
        "As this is randomised you will be seeing different numbers from me now but after a few runs it appears that serum creatinine and ejection fraction is about 5% more accurate, with a score of 74.73% versus 70.03% for age and blood pressure alone. It seems the 80% we got before was a complete outlier, which is why data anaylsis shoud be repeated multiple times.  With a more powerful computer and more time I could run the model 100 times on every combination of variables using the code I wrote before and then compare averages of all those results but for now it appears serum creatinine and ejection fraction are reasonable predictors of the outcome of heart failure."
      ]
    },
    {
      "cell_type": "code",
      "metadata": {
        "colab": {
          "base_uri": "https://localhost:8080/"
        },
        "id": "I_SyVryVer4G",
        "outputId": "2d4b366c-abc8-4897-9dcc-5f7ebc0323a9"
      },
      "source": [
        "best_features = []\n",
        "best_most_features = []\n",
        "best_score = 0\n",
        "scores = {}\n",
        "\n",
        "for i in range(1, (len(labels))):\n",
        "  combos = list(itertools.combinations(labels, i))\n",
        "  for i in combos:\n",
        "    brand_new_features = all_features[list(i)]\n",
        "    scoreslist = []\n",
        "    j=0\n",
        "    while j < 10:\n",
        "      x_train, x_test, y_train, y_test = train_test_split(brand_new_features, died, test_size=0.2)\n",
        "      x_train = scaler.fit_transform(x_train)\n",
        "      x_test = scaler.transform(x_test)\n",
        "      model.fit(x_train, y_train)\n",
        "      score = model.score(x_test, y_test)\n",
        "      scoreslist.append(score)\n",
        "      j += 1\n",
        "    mean_score = statistics.mean(scoreslist) \n",
        "    if mean_score > best_score:\n",
        "      best_score = mean_score\n",
        "      best_features = list(i)\n",
        "    if mean_score == best_score:\n",
        "      best_most_features = list(i)\n",
        "\n",
        "print('Best Score =', best_score)\n",
        "print('Shortest List of Features =', best_features)\n",
        "print('Longest List of Features =', best_most_features)"
      ],
      "execution_count": null,
      "outputs": [
        {
          "output_type": "stream",
          "text": [
            "Best Score = 0.8016666666666666\n",
            "Shortest List of Features = ['age', 'ejection_fraction', 'high_blood_pressure', 'serum_creatinine']\n",
            "Longest List of Features = ['age', 'anaemia', 'ejection_fraction', 'serum_creatinine', 'sex', 'smoking']\n"
          ],
          "name": "stdout"
        }
      ]
    },
    {
      "cell_type": "markdown",
      "metadata": {
        "id": "ZjVq31x7Tymp"
      },
      "source": [
        "So after running that code on a google collab gpu accelerated notebook I can confirm that using age, ejection_fraction, high_blood_pressure and serum_creatinine to train the model you can get an acuracy of 80%.  I believe a larger study with more data would be needed before you could implement anything like this and I would reccommend adjusting the classification threshold in a clinical seitting in order to create more false positives.  In this case the cost of a false negative, is in my opinion, worth skewing the model to be less accurate."
      ]
    }
  ]
}